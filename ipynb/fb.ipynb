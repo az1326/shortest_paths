{
 "cells": [
  {
   "cell_type": "markdown",
   "metadata": {},
   "source": [
    "# Facebook Graph Processing for SBM Graph Configuration"
   ]
  },
  {
   "cell_type": "markdown",
   "metadata": {},
   "source": [
    "This notebook describes the process of analyzing a real-world graph to inform the SBM graph configuration. The real-world graph we use is the [Facebook Large Page-Page Network](https://snap.stanford.edu/data/facebook-large-page-page-network.html) from the [Stanford Network Analysis Project](https://snap.stanford.edu/index.html). Extract `musae_facebook_edges.csv` from the downloaded zip, remove the first line, and place it in `data/edges.csv`."
   ]
  },
  {
   "cell_type": "markdown",
   "metadata": {},
   "source": [
    "Start by importing `networkx`."
   ]
  },
  {
   "cell_type": "code",
   "execution_count": 1,
   "metadata": {},
   "outputs": [],
   "source": [
    "import networkx as nx"
   ]
  },
  {
   "cell_type": "markdown",
   "metadata": {},
   "source": [
    "Read in the facebook graph."
   ]
  },
  {
   "cell_type": "code",
   "execution_count": 2,
   "metadata": {},
   "outputs": [],
   "source": [
    "fb_edges_csv = open(\"../data/edges.csv\", \"rb\") # read graph\n",
    "fb_graph = nx.read_edgelist(fb_edges_csv, delimiter=\",\", nodetype=int)"
   ]
  },
  {
   "cell_type": "markdown",
   "metadata": {},
   "source": [
    "Determine communities."
   ]
  },
  {
   "cell_type": "code",
   "execution_count": 3,
   "metadata": {},
   "outputs": [],
   "source": [
    "from networkx.algorithms.community import greedy_modularity_communities\n",
    "communities = list(greedy_modularity_communities(fb_graph))"
   ]
  },
  {
   "cell_type": "markdown",
   "metadata": {},
   "source": [
    "Save communities in `pickle` format."
   ]
  },
  {
   "cell_type": "code",
   "execution_count": 4,
   "metadata": {},
   "outputs": [],
   "source": [
    "import pickle\n",
    "from pathlib import Path\n",
    "Path('../pickle/fb').mkdir(exist_ok=True)\n",
    "with open('../pickle/fb/graph.pkl', 'wb') as pickle_file:\n",
    "    pickle.dump([fb_graph], pickle_file)\n",
    "with open('../pickle/fb/communities.pkl', 'wb') as pickle_file:\n",
    "    pickle.dump(communities, pickle_file)"
   ]
  },
  {
   "cell_type": "markdown",
   "metadata": {},
   "source": [
    "Calculate edge density within communities and across communities."
   ]
  },
  {
   "cell_type": "code",
   "execution_count": 5,
   "metadata": {},
   "outputs": [],
   "source": [
    "inside_edges = 0\n",
    "inside_total = 0\n",
    "outside_edges = 0\n",
    "outside_total = 0\n",
    "\n",
    "for c1 in communities:\n",
    "    for i in c1:\n",
    "        for j in c1:\n",
    "            if i != j and fb_graph.has_edge(i, j):\n",
    "                inside_edges += 1\n",
    "                inside_total += 1\n",
    "            elif i != j:\n",
    "                inside_total += 1\n",
    "    for c2 in communities:\n",
    "        if c1 == c2:\n",
    "            continue\n",
    "        for i in c1:\n",
    "            for j in c2:\n",
    "                if i != j and fb_graph.has_edge(i,j):\n",
    "                    outside_edges += 1\n",
    "                    outside_total += 1\n",
    "                elif i != j:\n",
    "                    outside_total += 1"
   ]
  },
  {
   "cell_type": "markdown",
   "metadata": {},
   "source": [
    "Count number of edges."
   ]
  },
  {
   "cell_type": "code",
   "execution_count": 6,
   "metadata": {},
   "outputs": [
    {
     "name": "stdout",
     "output_type": "stream",
     "text": [
      "318238\n",
      "70039570\n",
      "23408\n",
      "434838860\n"
     ]
    }
   ],
   "source": [
    "print(inside_edges)\n",
    "print(inside_total)\n",
    "print(outside_edges)\n",
    "print(outside_total)"
   ]
  },
  {
   "cell_type": "markdown",
   "metadata": {},
   "source": [
    "Assuming 130 blocks of size 172, determine edge densities needed to match number of within-community and cross-community edges."
   ]
  },
  {
   "cell_type": "code",
   "execution_count": 7,
   "metadata": {},
   "outputs": [
    {
     "name": "stdout",
     "output_type": "stream",
     "text": [
      "0.0832308110765883\n",
      "4.7181783381111744e-05\n"
     ]
    }
   ],
   "source": [
    "print(318238 / (172 * 171 * 130))\n",
    "print(23408 / (172 * 172 * 130 * 129))"
   ]
  }
 ],
 "metadata": {
  "kernelspec": {
   "display_name": "umich2021",
   "language": "python",
   "name": "python3"
  },
  "language_info": {
   "codemirror_mode": {
    "name": "ipython",
    "version": 3
   },
   "file_extension": ".py",
   "mimetype": "text/x-python",
   "name": "python",
   "nbconvert_exporter": "python",
   "pygments_lexer": "ipython3",
   "version": "3.7.10"
  }
 },
 "nbformat": 4,
 "nbformat_minor": 2
}
